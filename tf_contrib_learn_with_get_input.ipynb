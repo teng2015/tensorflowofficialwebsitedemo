{
 "cells": [
  {
   "cell_type": "code",
   "execution_count": 5,
   "metadata": {},
   "outputs": [
    {
     "name": "stdout",
     "output_type": "stream",
     "text": [
      "SparseTensorValue(indices=array([[0, 1],\n",
      "       [2, 4]], dtype=int64), values=array([ 6. ,  4.5], dtype=float32), dense_shape=array([4, 6], dtype=int64))\n"
     ]
    }
   ],
   "source": [
    "import tensorflow as tf\n",
    "aparse_tensor=tf.SparseTensor(indices=[[0,1],[2,4]],\n",
    "                             values=[6.0,4.5],\n",
    "                             dense_shape=[4,6])\n",
    "sess=tf.Session()\n",
    "res=sess.run(aparse_tensor)\n",
    "print(res)"
   ]
  },
  {
   "cell_type": "markdown",
   "metadata": {},
   "source": [
    "使用函数作为输入的三种方式"
   ]
  },
  {
   "cell_type": "markdown",
   "metadata": {},
   "source": [
    "classifier.fit(input_fn=functools.partial(my_input_function,data_set=trainning_set),steps=2000)\n",
    "classifier.fit(input_fn=input_fn(data-set),steps=2000)\n",
    "clssifier.fit(input_fn=lambda:input_fns,steps=2000)"
   ]
  },
  {
   "cell_type": "markdown",
   "metadata": {},
   "source": [
    "boston_predict.csv"
   ]
  },
  {
   "cell_type": "code",
   "execution_count": 6,
   "metadata": {
    "collapsed": true
   },
   "outputs": [],
   "source": [
    "import tensorflow as td\n",
    "from __future__ import division\n",
    "from __future__ import absolute_import\n",
    "from __future__ import print_function\n",
    "\n",
    "import itertools\n",
    "import pandas as pd\n",
    "tf.logging.set_verbosity(tf.logging.INFO)"
   ]
  },
  {
   "cell_type": "markdown",
   "metadata": {},
   "source": [
    "设置数据特征和读取数据"
   ]
  },
  {
   "cell_type": "code",
   "execution_count": 9,
   "metadata": {},
   "outputs": [],
   "source": [
    "COLUMNS = [\"crim\", \"zn\", \"indus\", \"nox\", \"rm\", \"age\",\n",
    "           \"dis\", \"tax\", \"ptratio\", \"medv\"]\n",
    "FEATURES = [\"crim\", \"zn\", \"indus\", \"nox\", \"rm\",\n",
    "            \"age\", \"dis\", \"tax\", \"ptratio\"]\n",
    "LABEL = \"medv\"\n",
    "\n",
    "trainning_set=pd.read_csv(\"boston_train.csv\",\n",
    "                          skipinitialspace=True,\n",
    "                         skiprows=1,\n",
    "                         names=COLUMNS)\n",
    "test_set=pd.read_csv(\"boston_test.csv\",\n",
    "                    skipinitialspace=True,\n",
    "                    skiprows=1,\n",
    "                    names=COLUMNS)\n",
    "predict_set=pd.read_csv(\"boston_predict.csv\",\n",
    "                       skipinitialspace=True,\n",
    "                       skiprows=1,\n",
    "                       names=COLUMNS)\n"
   ]
  },
  {
   "cell_type": "markdown",
   "metadata": {},
   "source": [
    "设置层数"
   ]
  },
  {
   "cell_type": "code",
   "execution_count": 10,
   "metadata": {},
   "outputs": [],
   "source": [
    "feature_cols=[tf.contrib.layers.real_valued_column(k)\n",
    "             for k in FEATURES]"
   ]
  },
  {
   "cell_type": "markdown",
   "metadata": {},
   "source": [
    "定义模型"
   ]
  },
  {
   "cell_type": "code",
   "execution_count": 12,
   "metadata": {},
   "outputs": [
    {
     "name": "stdout",
     "output_type": "stream",
     "text": [
      "INFO:tensorflow:Using default config.\n",
      "INFO:tensorflow:Using config: {'_model_dir': None, '_cluster_spec': <tensorflow.python.training.server_lib.ClusterSpec object at 0x00000063CFBA8080>, '_save_summary_steps': 100, '_evaluation_master': '', '_is_chief': True, '_num_ps_replicas': 0, '_task_type': None, '_save_checkpoints_steps': None, '_tf_random_seed': None, '_task_id': 0, '_keep_checkpoint_max': 5, '_master': '', '_num_worker_replicas': 0, '_environment': 'local', '_save_checkpoints_secs': 600, '_tf_config': gpu_options {\n",
      "  per_process_gpu_memory_fraction: 1\n",
      "}\n",
      ", '_keep_checkpoint_every_n_hours': 10000}\n"
     ]
    }
   ],
   "source": [
    "regressor=tf.contrib.learn.DNNRegressor(feature_columns=feature_cols,\n",
    "                         hidden_units=[10,10],\n",
    "                         model_dir='./temp/bonston.txt')"
   ]
  },
  {
   "cell_type": "markdown",
   "metadata": {},
   "source": [
    "定义输入函数"
   ]
  },
  {
   "cell_type": "code",
   "execution_count": 13,
   "metadata": {
    "collapsed": true
   },
   "outputs": [],
   "source": [
    "def input_fn(data_set):\n",
    "    feature_cols={k:tf.constant(data_set[k].values) for k in FEATURES}\n",
    "    labels=tf.constant(data_set[LABEL].values)\n",
    "    return feature_cols,labels\n",
    "    "
   ]
  },
  {
   "cell_type": "markdown",
   "metadata": {},
   "source": [
    "训练数据"
   ]
  },
  {
   "cell_type": "code",
   "execution_count": 14,
   "metadata": {},
   "outputs": [
    {
     "name": "stdout",
     "output_type": "stream",
     "text": [
      "WARNING:tensorflow:Rank of input Tensor (1) should be the same as output_rank (2) for column. Will attempt to expand dims. It is highly recommended that you resize your input, as this behavior may change.\n",
      "WARNING:tensorflow:Rank of input Tensor (1) should be the same as output_rank (2) for column. Will attempt to expand dims. It is highly recommended that you resize your input, as this behavior may change.\n",
      "WARNING:tensorflow:Rank of input Tensor (1) should be the same as output_rank (2) for column. Will attempt to expand dims. It is highly recommended that you resize your input, as this behavior may change.\n",
      "WARNING:tensorflow:Rank of input Tensor (1) should be the same as output_rank (2) for column. Will attempt to expand dims. It is highly recommended that you resize your input, as this behavior may change.\n",
      "WARNING:tensorflow:Rank of input Tensor (1) should be the same as output_rank (2) for column. Will attempt to expand dims. It is highly recommended that you resize your input, as this behavior may change.\n",
      "WARNING:tensorflow:Rank of input Tensor (1) should be the same as output_rank (2) for column. Will attempt to expand dims. It is highly recommended that you resize your input, as this behavior may change.\n",
      "WARNING:tensorflow:Rank of input Tensor (1) should be the same as output_rank (2) for column. Will attempt to expand dims. It is highly recommended that you resize your input, as this behavior may change.\n",
      "WARNING:tensorflow:Rank of input Tensor (1) should be the same as output_rank (2) for column. Will attempt to expand dims. It is highly recommended that you resize your input, as this behavior may change.\n",
      "WARNING:tensorflow:Rank of input Tensor (1) should be the same as output_rank (2) for column. Will attempt to expand dims. It is highly recommended that you resize your input, as this behavior may change.\n",
      "WARNING:tensorflow:From d:\\sf\\python35\\lib\\site-packages\\tensorflow\\contrib\\learn\\python\\learn\\estimators\\head.py:615: scalar_summary (from tensorflow.python.ops.logging_ops) is deprecated and will be removed after 2016-11-30.\n",
      "Instructions for updating:\n",
      "Please switch to tf.summary.scalar. Note that tf.summary.scalar uses the node name instead of the tag. This means that TensorFlow will automatically de-duplicate summary names based on the scope they are created in. Also, passing a tensor or list of tags to a scalar summary op is no longer supported.\n",
      "INFO:tensorflow:Create CheckpointSaverHook.\n",
      "INFO:tensorflow:Saving checkpoints for 1 into ./temp/bonston.txt\\model.ckpt.\n",
      "INFO:tensorflow:loss = 5166.21, step = 1\n",
      "INFO:tensorflow:global_step/sec: 711.235\n",
      "INFO:tensorflow:loss = 86.5151, step = 101 (0.127 sec)\n",
      "INFO:tensorflow:global_step/sec: 1046.38\n",
      "INFO:tensorflow:loss = 80.1991, step = 201 (0.096 sec)\n",
      "INFO:tensorflow:global_step/sec: 1332.38\n",
      "INFO:tensorflow:loss = 76.5343, step = 301 (0.074 sec)\n",
      "INFO:tensorflow:global_step/sec: 1297.78\n",
      "INFO:tensorflow:loss = 74.9933, step = 401 (0.077 sec)\n",
      "INFO:tensorflow:global_step/sec: 1332.38\n",
      "INFO:tensorflow:loss = 71.3542, step = 501 (0.075 sec)\n",
      "INFO:tensorflow:global_step/sec: 960.855\n",
      "INFO:tensorflow:loss = 69.4237, step = 601 (0.104 sec)\n",
      "INFO:tensorflow:global_step/sec: 929.57\n",
      "INFO:tensorflow:loss = 67.9549, step = 701 (0.108 sec)\n",
      "INFO:tensorflow:global_step/sec: 1289.38\n",
      "INFO:tensorflow:loss = 66.166, step = 801 (0.078 sec)\n",
      "INFO:tensorflow:global_step/sec: 1306.28\n",
      "INFO:tensorflow:loss = 64.6472, step = 901 (0.076 sec)\n",
      "INFO:tensorflow:global_step/sec: 1289.41\n",
      "INFO:tensorflow:loss = 64.3056, step = 1001 (0.078 sec)\n",
      "INFO:tensorflow:global_step/sec: 1281.11\n",
      "INFO:tensorflow:loss = 61.7716, step = 1101 (0.078 sec)\n",
      "INFO:tensorflow:global_step/sec: 1289.41\n",
      "INFO:tensorflow:loss = 60.8636, step = 1201 (0.077 sec)\n",
      "INFO:tensorflow:global_step/sec: 1314.87\n",
      "INFO:tensorflow:loss = 59.6697, step = 1301 (0.077 sec)\n",
      "INFO:tensorflow:global_step/sec: 1306.15\n",
      "INFO:tensorflow:loss = 58.9935, step = 1401 (0.077 sec)\n",
      "INFO:tensorflow:global_step/sec: 1314.96\n",
      "INFO:tensorflow:loss = 55.9733, step = 1501 (0.077 sec)\n",
      "INFO:tensorflow:global_step/sec: 1314.86\n",
      "INFO:tensorflow:loss = 54.3034, step = 1601 (0.075 sec)\n",
      "INFO:tensorflow:global_step/sec: 970.183\n",
      "INFO:tensorflow:loss = 53.2117, step = 1701 (0.105 sec)\n",
      "INFO:tensorflow:global_step/sec: 956.254\n",
      "INFO:tensorflow:loss = 52.2462, step = 1801 (0.104 sec)\n",
      "INFO:tensorflow:global_step/sec: 1314.85\n",
      "INFO:tensorflow:loss = 51.4625, step = 1901 (0.076 sec)\n",
      "INFO:tensorflow:Saving checkpoints for 2000 into ./temp/bonston.txt\\model.ckpt.\n",
      "INFO:tensorflow:Loss for final step: 50.3093.\n"
     ]
    },
    {
     "data": {
      "text/plain": [
       "DNNRegressor(params={'activation_fn': <function relu at 0x00000063CACD9BF8>, 'embedding_lr_multipliers': None, 'input_layer_min_slice_size': None, 'dropout': None, 'feature_columns': (_RealValuedColumn(column_name='crim', dimension=1, default_value=None, dtype=tf.float32, normalizer=None), _RealValuedColumn(column_name='zn', dimension=1, default_value=None, dtype=tf.float32, normalizer=None), _RealValuedColumn(column_name='indus', dimension=1, default_value=None, dtype=tf.float32, normalizer=None), _RealValuedColumn(column_name='nox', dimension=1, default_value=None, dtype=tf.float32, normalizer=None), _RealValuedColumn(column_name='rm', dimension=1, default_value=None, dtype=tf.float32, normalizer=None), _RealValuedColumn(column_name='age', dimension=1, default_value=None, dtype=tf.float32, normalizer=None), _RealValuedColumn(column_name='dis', dimension=1, default_value=None, dtype=tf.float32, normalizer=None), _RealValuedColumn(column_name='tax', dimension=1, default_value=None, dtype=tf.float32, normalizer=None), _RealValuedColumn(column_name='ptratio', dimension=1, default_value=None, dtype=tf.float32, normalizer=None)), 'hidden_units': [10, 10], 'head': <tensorflow.contrib.learn.python.learn.estimators.head._RegressionHead object at 0x00000063CFB48FD0>, 'optimizer': None, 'gradient_clip_norm': None})"
      ]
     },
     "execution_count": 14,
     "metadata": {},
     "output_type": "execute_result"
    }
   ],
   "source": [
    "regressor.fit(input_fn=lambda:input_fn(trainning_set),steps=2000)"
   ]
  },
  {
   "cell_type": "markdown",
   "metadata": {},
   "source": [
    "执行测试"
   ]
  },
  {
   "cell_type": "code",
   "execution_count": 18,
   "metadata": {},
   "outputs": [
    {
     "name": "stdout",
     "output_type": "stream",
     "text": [
      "WARNING:tensorflow:Rank of input Tensor (1) should be the same as output_rank (2) for column. Will attempt to expand dims. It is highly recommended that you resize your input, as this behavior may change.\n",
      "WARNING:tensorflow:Rank of input Tensor (1) should be the same as output_rank (2) for column. Will attempt to expand dims. It is highly recommended that you resize your input, as this behavior may change.\n",
      "WARNING:tensorflow:Rank of input Tensor (1) should be the same as output_rank (2) for column. Will attempt to expand dims. It is highly recommended that you resize your input, as this behavior may change.\n",
      "WARNING:tensorflow:Rank of input Tensor (1) should be the same as output_rank (2) for column. Will attempt to expand dims. It is highly recommended that you resize your input, as this behavior may change.\n",
      "WARNING:tensorflow:Rank of input Tensor (1) should be the same as output_rank (2) for column. Will attempt to expand dims. It is highly recommended that you resize your input, as this behavior may change.\n",
      "WARNING:tensorflow:Rank of input Tensor (1) should be the same as output_rank (2) for column. Will attempt to expand dims. It is highly recommended that you resize your input, as this behavior may change.\n",
      "WARNING:tensorflow:Rank of input Tensor (1) should be the same as output_rank (2) for column. Will attempt to expand dims. It is highly recommended that you resize your input, as this behavior may change.\n",
      "WARNING:tensorflow:Rank of input Tensor (1) should be the same as output_rank (2) for column. Will attempt to expand dims. It is highly recommended that you resize your input, as this behavior may change.\n",
      "WARNING:tensorflow:Rank of input Tensor (1) should be the same as output_rank (2) for column. Will attempt to expand dims. It is highly recommended that you resize your input, as this behavior may change.\n",
      "WARNING:tensorflow:From d:\\sf\\python35\\lib\\site-packages\\tensorflow\\contrib\\learn\\python\\learn\\estimators\\head.py:615: scalar_summary (from tensorflow.python.ops.logging_ops) is deprecated and will be removed after 2016-11-30.\n",
      "Instructions for updating:\n",
      "Please switch to tf.summary.scalar. Note that tf.summary.scalar uses the node name instead of the tag. This means that TensorFlow will automatically de-duplicate summary names based on the scope they are created in. Also, passing a tensor or list of tags to a scalar summary op is no longer supported.\n",
      "INFO:tensorflow:Starting evaluation at 2017-05-17-12:16:12\n",
      "INFO:tensorflow:Restoring parameters from ./temp/bonston.txt\\model.ckpt-2000\n",
      "INFO:tensorflow:Evaluation [1/1]\n",
      "INFO:tensorflow:Finished evaluation at 2017-05-17-12:16:12\n",
      "INFO:tensorflow:Saving dict for global step 2000: global_step = 2000, loss = 31.5635\n",
      "WARNING:tensorflow:Skipping summary for global_step, must be a float or np.float32.\n"
     ]
    }
   ],
   "source": [
    "ev=regressor.evaluate(input_fn=lambda:input_fn(test_set),steps=1)"
   ]
  },
  {
   "cell_type": "code",
   "execution_count": 19,
   "metadata": {},
   "outputs": [
    {
     "name": "stdout",
     "output_type": "stream",
     "text": [
      "loss:31.563511\n"
     ]
    }
   ],
   "source": [
    "loss_score=ev[\"loss\"]\n",
    "print(\"loss:{0:f}\".format(loss_score))"
   ]
  },
  {
   "cell_type": "markdown",
   "metadata": {},
   "source": [
    "预测"
   ]
  },
  {
   "cell_type": "code",
   "execution_count": 21,
   "metadata": {},
   "outputs": [
    {
     "name": "stdout",
     "output_type": "stream",
     "text": [
      "WARNING:tensorflow:From d:\\sf\\python35\\lib\\site-packages\\tensorflow\\python\\util\\deprecation.py:335: calling DNNRegressor.predict (from tensorflow.contrib.learn.python.learn.estimators.dnn) with outputs=None is deprecated and will be removed after 2017-03-01.\n",
      "Instructions for updating:\n",
      "Please switch to predict_scores, or set `outputs` argument.\n",
      "WARNING:tensorflow:Rank of input Tensor (1) should be the same as output_rank (2) for column. Will attempt to expand dims. It is highly recommended that you resize your input, as this behavior may change.\n",
      "WARNING:tensorflow:Rank of input Tensor (1) should be the same as output_rank (2) for column. Will attempt to expand dims. It is highly recommended that you resize your input, as this behavior may change.\n",
      "WARNING:tensorflow:Rank of input Tensor (1) should be the same as output_rank (2) for column. Will attempt to expand dims. It is highly recommended that you resize your input, as this behavior may change.\n",
      "WARNING:tensorflow:Rank of input Tensor (1) should be the same as output_rank (2) for column. Will attempt to expand dims. It is highly recommended that you resize your input, as this behavior may change.\n",
      "WARNING:tensorflow:Rank of input Tensor (1) should be the same as output_rank (2) for column. Will attempt to expand dims. It is highly recommended that you resize your input, as this behavior may change.\n",
      "WARNING:tensorflow:Rank of input Tensor (1) should be the same as output_rank (2) for column. Will attempt to expand dims. It is highly recommended that you resize your input, as this behavior may change.\n",
      "WARNING:tensorflow:Rank of input Tensor (1) should be the same as output_rank (2) for column. Will attempt to expand dims. It is highly recommended that you resize your input, as this behavior may change.\n",
      "WARNING:tensorflow:Rank of input Tensor (1) should be the same as output_rank (2) for column. Will attempt to expand dims. It is highly recommended that you resize your input, as this behavior may change.\n",
      "WARNING:tensorflow:Rank of input Tensor (1) should be the same as output_rank (2) for column. Will attempt to expand dims. It is highly recommended that you resize your input, as this behavior may change.\n",
      "INFO:tensorflow:Restoring parameters from ./temp/bonston.txt\\model.ckpt-2000\n",
      "Predictions [32.074394, 18.447763, 25.699091, 29.320528, 16.360636, 19.581087]\n"
     ]
    }
   ],
   "source": [
    "y=regressor.predict(input_fn=lambda:input_fn(predict_set))\n",
    "predictions=list(itertools.islice(y,6))\n",
    "print(\"Predictions {}\".format(str(predictions)))"
   ]
  },
  {
   "cell_type": "code",
   "execution_count": null,
   "metadata": {
    "collapsed": true
   },
   "outputs": [],
   "source": []
  }
 ],
 "metadata": {
  "kernelspec": {
   "display_name": "Python 3",
   "language": "python",
   "name": "python3"
  },
  "language_info": {
   "codemirror_mode": {
    "name": "ipython",
    "version": 3
   },
   "file_extension": ".py",
   "mimetype": "text/x-python",
   "name": "python",
   "nbconvert_exporter": "python",
   "pygments_lexer": "ipython3",
   "version": "3.5.3"
  }
 },
 "nbformat": 4,
 "nbformat_minor": 2
}
